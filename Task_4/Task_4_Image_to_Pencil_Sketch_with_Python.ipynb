{
 "cells": [
  {
   "cell_type": "markdown",
   "id": "1eb81c5b",
   "metadata": {},
   "source": [
    "# Image to Pencil Sketch with Python"
   ]
  },
  {
   "cell_type": "markdown",
   "id": "b1ec04f0",
   "metadata": {},
   "source": [
    "We need to read the image in RBG format and then convert it to a grayscale image. This will turn an image into a classic black and white photo. Then the next thing to do is invert the grayscale image also called negative image, this will be our inverted grayscale image. Inversion can be used to enhance details. Then we can finally create the pencil sketch by mixing the grayscale image with the inverted blurry image. This can be done by dividing the grayscale image by the inverted blurry image. Since images are just arrays, we can easily do this programmatically using the divide function from the cv2 library in Python.\n",
    "\n",
    "Source: https://www.wallpapertip.com/"
   ]
  },
  {
   "cell_type": "code",
   "execution_count": 1,
   "id": "eeccdacb",
   "metadata": {},
   "outputs": [],
   "source": [
    "import cv2"
   ]
  },
  {
   "cell_type": "code",
   "execution_count": 2,
   "id": "98404bbf",
   "metadata": {},
   "outputs": [],
   "source": [
    "image = cv2.imread(\"Lord_Shiva.jpg\")"
   ]
  },
  {
   "cell_type": "code",
   "execution_count": 3,
   "id": "eae38d81",
   "metadata": {},
   "outputs": [],
   "source": [
    "cv2.namedWindow(\"Input\", cv2.WINDOW_NORMAL)\n",
    "cv2.resizeWindow(\"Input\", 650, 800)"
   ]
  },
  {
   "cell_type": "code",
   "execution_count": 4,
   "id": "9f46a284",
   "metadata": {},
   "outputs": [],
   "source": [
    "cv2.imshow(\"Input\", image)"
   ]
  },
  {
   "cell_type": "code",
   "execution_count": 5,
   "id": "979e6016",
   "metadata": {},
   "outputs": [],
   "source": [
    "gray = cv2.cvtColor(image, cv2.COLOR_BGR2GRAY)\n",
    "inverted=gray-255"
   ]
  },
  {
   "cell_type": "code",
   "execution_count": 6,
   "id": "914c60b7",
   "metadata": {},
   "outputs": [],
   "source": [
    "blur = cv2.GaussianBlur(inverted, (21, 21), 0)"
   ]
  },
  {
   "cell_type": "code",
   "execution_count": 7,
   "id": "3b50b726",
   "metadata": {},
   "outputs": [],
   "source": [
    "inverted_blur = 255 - blur"
   ]
  },
  {
   "cell_type": "code",
   "execution_count": 8,
   "id": "033d5a67",
   "metadata": {},
   "outputs": [],
   "source": [
    "pencil_sketch = cv2.divide(gray, inverted_blur, scale=256.0)"
   ]
  },
  {
   "cell_type": "code",
   "execution_count": null,
   "id": "c34b8e44",
   "metadata": {},
   "outputs": [],
   "source": [
    "cv2.namedWindow(\"Output\", cv2.WINDOW_NORMAL)\n",
    "cv2.resizeWindow(\"Output\", 650, 800)\n",
    "cv2.imshow(\"Output\", pencil_sketch)\n",
    "cv2.waitKey(0)"
   ]
  },
  {
   "cell_type": "code",
   "execution_count": null,
   "id": "c4e3c55c",
   "metadata": {},
   "outputs": [],
   "source": []
  }
 ],
 "metadata": {
  "kernelspec": {
   "display_name": "Python 3 (ipykernel)",
   "language": "python",
   "name": "python3"
  },
  "language_info": {
   "codemirror_mode": {
    "name": "ipython",
    "version": 3
   },
   "file_extension": ".py",
   "mimetype": "text/x-python",
   "name": "python",
   "nbconvert_exporter": "python",
   "pygments_lexer": "ipython3",
   "version": "3.9.0"
  }
 },
 "nbformat": 4,
 "nbformat_minor": 5
}
